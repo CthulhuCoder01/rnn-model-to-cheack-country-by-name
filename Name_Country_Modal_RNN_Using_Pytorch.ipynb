{
  "nbformat": 4,
  "nbformat_minor": 0,
  "metadata": {
    "colab": {
      "provenance": [],
      "authorship_tag": "ABX9TyPqXO73uKkIjYnfrioA2/BE",
      "include_colab_link": true
    },
    "kernelspec": {
      "name": "python3",
      "display_name": "Python 3"
    },
    "language_info": {
      "name": "python"
    }
  },
  "cells": [
    {
      "cell_type": "markdown",
      "metadata": {
        "id": "view-in-github",
        "colab_type": "text"
      },
      "source": [
        "<a href=\"https://colab.research.google.com/github/CthulhuCoder01/rnn-model-to-check-country-by-name/blob/main/Name_Country_Modal_RNN_Using_Pytorch.ipynb\" target=\"_parent\"><img src=\"https://colab.research.google.com/assets/colab-badge.svg\" alt=\"Open In Colab\"/></a>"
      ]
    },
    {
      "cell_type": "code",
      "source": [
        "!wget https://download.pytorch.org/tutorial/data.zip\n"
      ],
      "metadata": {
        "colab": {
          "base_uri": "https://localhost:8080/"
        },
        "id": "d5OohbXmbulC",
        "outputId": "32964e4a-b3d8-45f7-ad96-d3aaf01cfc21"
      },
      "execution_count": 1,
      "outputs": [
        {
          "output_type": "stream",
          "name": "stdout",
          "text": [
            "--2023-06-01 12:34:00--  https://download.pytorch.org/tutorial/data.zip\n",
            "Resolving download.pytorch.org (download.pytorch.org)... 13.226.228.31, 13.226.228.25, 13.226.228.114, ...\n",
            "Connecting to download.pytorch.org (download.pytorch.org)|13.226.228.31|:443... connected.\n",
            "HTTP request sent, awaiting response... 200 OK\n",
            "Length: 2882130 (2.7M) [application/zip]\n",
            "Saving to: ‘data.zip’\n",
            "\n",
            "data.zip            100%[===================>]   2.75M  --.-KB/s    in 0.1s    \n",
            "\n",
            "2023-06-01 12:34:00 (18.9 MB/s) - ‘data.zip’ saved [2882130/2882130]\n",
            "\n"
          ]
        }
      ]
    },
    {
      "cell_type": "code",
      "source": [
        "!unzip *.zip"
      ],
      "metadata": {
        "colab": {
          "base_uri": "https://localhost:8080/"
        },
        "id": "SUp5vNW281cF",
        "outputId": "2285c560-17a0-42b8-9966-022f605b87d3"
      },
      "execution_count": 2,
      "outputs": [
        {
          "output_type": "stream",
          "name": "stdout",
          "text": [
            "Archive:  data.zip\n",
            "   creating: data/\n",
            "  inflating: data/eng-fra.txt        \n",
            "   creating: data/names/\n",
            "  inflating: data/names/Arabic.txt   \n",
            "  inflating: data/names/Chinese.txt  \n",
            "  inflating: data/names/Czech.txt    \n",
            "  inflating: data/names/Dutch.txt    \n",
            "  inflating: data/names/English.txt  \n",
            "  inflating: data/names/French.txt   \n",
            "  inflating: data/names/German.txt   \n",
            "  inflating: data/names/Greek.txt    \n",
            "  inflating: data/names/Irish.txt    \n",
            "  inflating: data/names/Italian.txt  \n",
            "  inflating: data/names/Japanese.txt  \n",
            "  inflating: data/names/Korean.txt   \n",
            "  inflating: data/names/Polish.txt   \n",
            "  inflating: data/names/Portuguese.txt  \n",
            "  inflating: data/names/Russian.txt  \n",
            "  inflating: data/names/Scottish.txt  \n",
            "  inflating: data/names/Spanish.txt  \n",
            "  inflating: data/names/Vietnamese.txt  \n"
          ]
        }
      ]
    },
    {
      "cell_type": "markdown",
      "source": [
        " # This is a multiclass clasification as there are so many diffrent names"
      ],
      "metadata": {
        "id": "rc1ip9-p9Klg"
      }
    },
    {
      "cell_type": "code",
      "source": [
        "import os\n",
        "import numpy as np\n",
        "import unicodedata\n",
        "import string\n",
        "\n",
        "import torch\n",
        "import torch.nn as nn\n",
        "\n"
      ],
      "metadata": {
        "id": "oHC42QSG89Bo"
      },
      "execution_count": 3,
      "outputs": []
    },
    {
      "cell_type": "code",
      "source": [
        "\n",
        "all_letters = string.ascii_letters + \" .,;'\"\n",
        "n_letters = len(all_letters)\n"
      ],
      "metadata": {
        "id": "yy9P06X_9ps4"
      },
      "execution_count": 4,
      "outputs": []
    },
    {
      "cell_type": "code",
      "source": [
        "\n",
        "def unicodeToAscii(s):\n",
        "  return ''.join(\n",
        "      c for c in unicodedata.normalize('NFD', s)\n",
        "      if unicodedata.category(c) != 'Mn'\n",
        "      and c in all_letters\n",
        "  )\n",
        "\n"
      ],
      "metadata": {
        "id": "B7n5YZER94a2"
      },
      "execution_count": 5,
      "outputs": []
    },
    {
      "cell_type": "code",
      "source": [
        "all_names = []\n",
        "all_country = []"
      ],
      "metadata": {
        "id": "AHK_GJHj_KQJ"
      },
      "execution_count": 30,
      "outputs": []
    },
    {
      "cell_type": "code",
      "source": [
        "\n",
        "for f in  os.listdir('/content/data/names'):\n",
        "    fl = open(\"/content/data/names/\"+f, \"r\")\n",
        "    lis = fl.readlines()\n",
        "    clean_lis = list(map(unicodeToAscii,lis))\n",
        "    all_names.extend(clean_lis)\n",
        "    country_name = f.split(\".\")[0]\n",
        "    all_country.extend( [ country_name ]  * len(clean_lis) )\n",
        "\n"
      ],
      "metadata": {
        "id": "m-20o4Nq_SKK"
      },
      "execution_count": 31,
      "outputs": []
    },
    {
      "cell_type": "code",
      "source": [
        "n_rows = len(all_names)"
      ],
      "metadata": {
        "id": "6yjLq8EYCK5B"
      },
      "execution_count": 33,
      "outputs": []
    },
    {
      "cell_type": "markdown",
      "source": [
        "Now Comes One Hot Embedding to generate input for RNN model"
      ],
      "metadata": {
        "id": "6Ra0hdcxC65q"
      }
    },
    {
      "cell_type": "code",
      "source": [
        "# This emb is identity matrix of size n_letters x n_letters\n",
        "emb = torch.eye(n_letters)\n",
        "#mapping is done this way becuse maye all elemtns are unique to get range of all\n",
        "mapping = dict(zip(np.unique(all_country), range(n_rows)))\n",
        "\n"
      ],
      "metadata": {
        "id": "065dAoh5C6Gb"
      },
      "execution_count": 38,
      "outputs": []
    },
    {
      "cell_type": "markdown",
      "source": [
        "## Converting name into char"
      ],
      "metadata": {
        "id": "giIF7tvqHKRZ"
      }
    },
    {
      "cell_type": "code",
      "source": [
        "def get_data(idx):\n",
        "  name = all_names[idx]\n",
        "  country = all_country[idx]\n",
        "  name_char_lis = np.array(list(name))\n",
        "  # Search through the np array name-charlist then convert it to a column array then \n",
        "  # Find index of letters from whole letter  porpose to get numerical value\n",
        "  indices = np.where(name_char_lis[..., None] == np.array(list(all_letters)))[1]\n",
        "  # Now we will get country code as in form of tensor and all indices in\n",
        "  # Form of numpy array in form of embeded with one hot encodin\n",
        "  # print(indices)\n",
        "  # Now as emb has n_letters of charaters here hot encoding based on all charaters not max\n",
        "  # chereter here\n",
        "  # Here mapping is country dict we created earlies with all unique country\n",
        "  return emb[torch.from_numpy(indices)], torch.tensor(mapping[country])\n",
        "\n"
      ],
      "metadata": {
        "id": "RV-faje_GHK5"
      },
      "execution_count": 87,
      "outputs": []
    },
    {
      "cell_type": "markdown",
      "source": [
        "## Here we will define an RNN "
      ],
      "metadata": {
        "id": "__sVzShcO7Bo"
      }
    },
    {
      "cell_type": "code",
      "source": [
        "class Net(nn.Module):\n",
        "\n",
        "  def __init__(self, n_country, n_letters):\n",
        "    super(Net, self).__init__()\n",
        "    self.rnn = nn.RNN(n_letters, 2 * n_letters)\n",
        "    # This is last layer multiplication for outcome with n_country instead of 1 because of\n",
        "    # multilevel Nural network\n",
        "    #Shape of linear modal\n",
        "    self.fc = nn.Linear(2 * n_letters, n_country)\n",
        "\n",
        "  def forward(self,x):\n",
        "    out, _ = self.rnn(x)\n",
        "    # Now take value from last step of rnn using out[-1,:] and give result to user\n",
        "    out1 = self.fc(out[-1,:])\n",
        "    return out1\n",
        "\n"
      ],
      "metadata": {
        "id": "HNV9f0CqKr1Z"
      },
      "execution_count": 76,
      "outputs": []
    },
    {
      "cell_type": "code",
      "source": [
        "\n",
        "n_countries = len(np.unique(all_country))\n",
        "model = Net(n_country=n_countries, n_letters=n_letters)\n",
        "\n"
      ],
      "metadata": {
        "id": "-PuiEXVjYlsH"
      },
      "execution_count": 50,
      "outputs": []
    },
    {
      "cell_type": "code",
      "source": [
        "# Loss function i.e Cross Entropy loss function\n",
        "loss_fn = nn.CrossEntropyLoss()\n",
        "# Gradient Desent\n",
        "optimizer = torch.optim.SGD(model.parameters(), lr= 0.005)\n"
      ],
      "metadata": {
        "id": "ZJZ62lpgZMCl"
      },
      "execution_count": 125,
      "outputs": []
    },
    {
      "cell_type": "code",
      "source": [
        "num_epochs = 100\n",
        "all_losses = []\n",
        "for epoch in range(num_epochs):\n",
        "  arr = np.arange(n_rows) # 0, 1, --- 20074\n",
        "  np.random.shuffle(arr) # shuffle it\n",
        "  epoch_loss = 0\n",
        "  for ind in arr:\n",
        "    data, target = get_data(ind) # data is indices vector in one hot form and target in tensor of country code\n",
        "    output = model(data)\n",
        "    # This will use cross entropy loss function to calculate loss\n",
        "    loss = loss_fn(output, target)\n",
        "    epoch_loss += loss.detach().numpy()\n",
        "    optimizer.zero_grad()\n",
        "    loss.backward()\n",
        "    optimizer.step()\n",
        "  all_losses.append(epoch_loss)\n"
      ],
      "metadata": {
        "id": "w9noJbg1jniQ"
      },
      "execution_count": null,
      "outputs": []
    },
    {
      "cell_type": "code",
      "source": [
        "import matplotlib.pyplot as plt\n",
        "# We can also live plot the neural network to get its value\n",
        "plt.plot(all_losses)\n",
        "print(all_losses)\n"
      ],
      "metadata": {
        "colab": {
          "base_uri": "https://localhost:8080/",
          "height": 468
        },
        "id": "s_UYjk9gDKFT",
        "outputId": "611c04cf-1d18-4717-bc4d-5c2f250e6bdf"
      },
      "execution_count": 122,
      "outputs": [
        {
          "output_type": "stream",
          "name": "stdout",
          "text": [
            "[78482.53886110762, 81445.05330827493, 82266.44693056495, 81783.32418632045, 81134.94203305022, 81076.69867806415, 81846.38106602401, 81545.2491079506, 80830.95595323038, 81600.91095531883, 84473.74635889879, 82101.5599480305, 81531.73433998358, 81857.3758890267, 81613.68350719244, 81730.64035290347, 81488.92232680843, 82021.75424120021, 82395.1876735711, 82118.21873313804, 82018.88049889028, 81407.45759443706, 81615.1054132529, 81202.54049457563, 81208.99596637803, 81496.69373524208, 81798.48873102924, 81919.67275154912, 81964.82143077062, 82030.97573792053, 82184.08928123681, 82204.82851950273, 83626.25272516228, 83630.4365611551, 83645.3791065618, 83374.9486199709, 83925.47540193377, 82900.93474796618, 83435.77477506621, 83473.58258776461, 83946.30968534859, 83661.90328015291, 83715.70983667517, 83997.4923922022, 83615.90941372792, 83550.32715415921, 83721.8326795905, 84000.34346585195, 83253.05775628454, 83746.32835778665, 83788.883948028, 83674.19044034515, 83825.1689039094, 83313.20772786965, 83781.11808477934, 83720.38956002943]\n"
          ]
        },
        {
          "output_type": "display_data",
          "data": {
            "text/plain": [
              "<Figure size 640x480 with 1 Axes>"
            ],
            "image/png": "[encoded data removed]"
          },
          "metadata": {}
        }
      ]
    },
    {
      "cell_type": "code",
      "source": [
        "def textToLinear(name):\n",
        "  name_char_lis = np.array(list(name))\n",
        "  indices = np.where(name_char_lis[..., None] == np.array(list(all_letters)))[1]\n",
        "  # Now we will get country code as in form of tensor and all indices in\n",
        "  # Form of numpy array in form of embeded with one hot encodin\n",
        "  # print(indices)\n",
        "  # Now as emb has n_letters of charaters here hot encoding based on all charaters not max\n",
        "  # chereter here\n",
        "  # Here mapping is country dict we created earlies with all unique country\n",
        "  return emb[torch.from_numpy(indices)]\n"
      ],
      "metadata": {
        "id": "W79LR530FH05"
      },
      "execution_count": null,
      "outputs": []
    },
    {
      "cell_type": "code",
      "source": [
        "\n",
        "\n",
        "# This uses tensors ans input\n",
        "data, target = get_data(100)\n",
        "# nameTensor = get_data(10)\n",
        "output =  model(data)\n",
        "predicted_labels = output.argmax()\n",
        "correct_predictions = (predicted_labels == target)\n",
        "# print(\"Predicted labels:\", predicted_labels)\n",
        "# print(\"Target labels:\", target)\n",
        "\n",
        "accuracy = torch.mean(correct_predictions.float())\n",
        "\n",
        "print(\"Accuracy:\", accuracy.item())"
      ],
      "metadata": {
        "colab": {
          "base_uri": "https://localhost:8080/"
        },
        "id": "exRa9jKRtb0M",
        "outputId": "811debf6-31da-4d62-c1cb-10042b6dcddc"
      },
      "execution_count": 118,
      "outputs": [
        {
          "output_type": "stream",
          "name": "stdout",
          "text": [
            "Accuracy: 0.0\n"
          ]
        }
      ]
    },
    {
      "cell_type": "markdown",
      "source": [
        "## Now Ploting Evaluation of results"
      ],
      "metadata": {
        "id": "r5-7h7W0CMpC"
      }
    },
    {
      "cell_type": "code",
      "source": [
        "\n",
        "\n",
        "#Take 10000 values randomize them feed data to model get result \n",
        "# Cheaack how close is the result to data then give value  \n",
        "\n",
        "\n",
        "\n"
      ],
      "metadata": {
        "id": "FqFN7QyGzkyh"
      },
      "execution_count": null,
      "outputs": []
    }
  ]
}