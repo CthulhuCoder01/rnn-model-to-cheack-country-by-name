{
  "nbformat": 4,
  "nbformat_minor": 0,
  "metadata": {
    "colab": {
      "provenance": [],
      "gpuType": "T4",
      "authorship_tag": "ABX9TyPto8LCWY6p0OjyetIKZ2DM",
      "include_colab_link": true
    },
    "kernelspec": {
      "name": "python3",
      "display_name": "Python 3"
    },
    "language_info": {
      "name": "python"
    }
  },
  "cells": [
    {
      "cell_type": "markdown",
      "metadata": {
        "id": "view-in-github",
        "colab_type": "text"
      },
      "source": [
        "<a href=\"https://colab.research.google.com/github/CthulhuCoder01/rnn-model-to-check-country-by-name/blob/main/Name_Country_Modal_RNN_Using_Pytorch.ipynb\" target=\"_parent\"><img src=\"https://colab.research.google.com/assets/colab-badge.svg\" alt=\"Open In Colab\"/></a>"
      ]
    },
    {
      "cell_type": "code",
      "source": [
        "!wget https://download.pytorch.org/tutorial/data.zip\n"
      ],
      "metadata": {
        "colab": {
          "base_uri": "https://localhost:8080/"
        },
        "id": "d5OohbXmbulC",
        "outputId": "99d5cc8d-264a-47e7-dc72-4f7f981d552e"
      },
      "execution_count": 2,
      "outputs": [
        {
          "output_type": "stream",
          "name": "stdout",
          "text": [
            "--2023-06-02 06:14:27--  https://download.pytorch.org/tutorial/data.zip\n",
            "Resolving download.pytorch.org (download.pytorch.org)... 52.222.139.21, 52.222.139.109, 52.222.139.59, ...\n",
            "Connecting to download.pytorch.org (download.pytorch.org)|52.222.139.21|:443... connected.\n",
            "HTTP request sent, awaiting response... 200 OK\n",
            "Length: 2882130 (2.7M) [application/zip]\n",
            "Saving to: ‘data.zip’\n",
            "\n",
            "\rdata.zip              0%[                    ]       0  --.-KB/s               \rdata.zip            100%[===================>]   2.75M  --.-KB/s    in 0.07s   \n",
            "\n",
            "2023-06-02 06:14:27 (36.8 MB/s) - ‘data.zip’ saved [2882130/2882130]\n",
            "\n"
          ]
        }
      ]
    },
    {
      "cell_type": "code",
      "source": [
        "!unzip *.zip"
      ],
      "metadata": {
        "colab": {
          "base_uri": "https://localhost:8080/"
        },
        "id": "SUp5vNW281cF",
        "outputId": "8e1c7b87-d41d-4ddd-a6b1-9cbb9f1f4246"
      },
      "execution_count": 3,
      "outputs": [
        {
          "output_type": "stream",
          "name": "stdout",
          "text": [
            "Archive:  data.zip\n",
            "   creating: data/\n",
            "  inflating: data/eng-fra.txt        \n",
            "   creating: data/names/\n",
            "  inflating: data/names/Arabic.txt   \n",
            "  inflating: data/names/Chinese.txt  \n",
            "  inflating: data/names/Czech.txt    \n",
            "  inflating: data/names/Dutch.txt    \n",
            "  inflating: data/names/English.txt  \n",
            "  inflating: data/names/French.txt   \n",
            "  inflating: data/names/German.txt   \n",
            "  inflating: data/names/Greek.txt    \n",
            "  inflating: data/names/Irish.txt    \n",
            "  inflating: data/names/Italian.txt  \n",
            "  inflating: data/names/Japanese.txt  \n",
            "  inflating: data/names/Korean.txt   \n",
            "  inflating: data/names/Polish.txt   \n",
            "  inflating: data/names/Portuguese.txt  \n",
            "  inflating: data/names/Russian.txt  \n",
            "  inflating: data/names/Scottish.txt  \n",
            "  inflating: data/names/Spanish.txt  \n",
            "  inflating: data/names/Vietnamese.txt  \n"
          ]
        }
      ]
    },
    {
      "cell_type": "markdown",
      "source": [
        " # This is a multiclass clasification as there are so many diffrent names"
      ],
      "metadata": {
        "id": "rc1ip9-p9Klg"
      }
    },
    {
      "cell_type": "code",
      "source": [
        "import os\n",
        "import numpy as np\n",
        "import unicodedata\n",
        "import string\n",
        "\n",
        "import torch\n",
        "import torch.nn as nn\n",
        "\n"
      ],
      "metadata": {
        "id": "oHC42QSG89Bo"
      },
      "execution_count": 4,
      "outputs": []
    },
    {
      "cell_type": "code",
      "source": [
        "\n",
        "all_letters = string.ascii_letters + \" .,;'\"\n",
        "n_letters = len(all_letters)\n"
      ],
      "metadata": {
        "id": "yy9P06X_9ps4"
      },
      "execution_count": 5,
      "outputs": []
    },
    {
      "cell_type": "code",
      "source": [
        "\n",
        "def unicodeToAscii(s):\n",
        "  return ''.join(\n",
        "      # Here we used a filtered generato expression to create an array of c fromo\n",
        "      # normalised cahrated using NFD format then check is they have any non space mark if not\n",
        "      #then add its value if yes then check is characted is present in all_letter \n",
        "      # then showit\n",
        "      c for c in unicodedata.normalize('NFD', s) if unicodedata.category(c) != 'Mn'and c in all_letters\n",
        "  )\n",
        "\n"
      ],
      "metadata": {
        "id": "B7n5YZER94a2"
      },
      "execution_count": 6,
      "outputs": []
    },
    {
      "cell_type": "code",
      "source": [
        "all_names = []\n",
        "all_country = []"
      ],
      "metadata": {
        "id": "AHK_GJHj_KQJ"
      },
      "execution_count": 7,
      "outputs": []
    },
    {
      "cell_type": "code",
      "source": [
        "\n",
        "for f in  os.listdir('/content/data/names'):\n",
        "    fl = open(\"/content/data/names/\"+f, \"r\")\n",
        "    lis = fl.readlines()\n",
        "    clean_lis = list(map(unicodeToAscii,lis))\n",
        "    all_names.extend(clean_lis)\n",
        "    country_name = f.split(\".\")[0]\n",
        "    all_country.extend( [ country_name ]  * len(clean_lis) )\n",
        "\n"
      ],
      "metadata": {
        "id": "m-20o4Nq_SKK"
      },
      "execution_count": 8,
      "outputs": []
    },
    {
      "cell_type": "code",
      "source": [
        "n_rows = len(all_names)"
      ],
      "metadata": {
        "id": "6yjLq8EYCK5B"
      },
      "execution_count": 9,
      "outputs": []
    },
    {
      "cell_type": "markdown",
      "source": [
        "Now Comes One Hot Embedding to generate input for RNN model"
      ],
      "metadata": {
        "id": "6Ra0hdcxC65q"
      }
    },
    {
      "cell_type": "code",
      "source": [
        "# This emb is identity matrix of size n_letters x n_letters\n",
        "emb = torch.eye(n_letters)\n",
        "#mapping is done this way becuse maye all elemtns are unique to get range of all\n",
        "#zipfunction map two array with their coresponding array to get a zip interablw with common value\n",
        "mapzip = zip(np.unique(all_country), range(n_rows))\n",
        "# And dict convert them into ket valu pair\n",
        "mapping = dict(mapzip)\n"
      ],
      "metadata": {
        "id": "065dAoh5C6Gb"
      },
      "execution_count": 11,
      "outputs": []
    },
    {
      "cell_type": "markdown",
      "source": [
        "## Converting name into char"
      ],
      "metadata": {
        "id": "giIF7tvqHKRZ"
      }
    },
    {
      "cell_type": "code",
      "source": [
        "def get_data(idx):\n",
        "  name = all_names[idx]\n",
        "  country = all_country[idx]\n",
        "  name_char_lis = np.array(list(name))\n",
        "  # Search through the np array name-charlist then convert it to a column array then \n",
        "  # Find index of letters from whole letter  porpose to get numerical value\n",
        "  indices = np.where(name_char_lis[..., None] == np.array(list(all_letters)))[1]\n",
        "  # Now we will get country code as in form of tensor and all indices in\n",
        "  # Form of numpy array in form of embeded with one hot encodin\n",
        "  # print(indices)\n",
        "  # Now as emb has n_letters of charaters here hot encoding based on all charaters not max\n",
        "  # chereter here\n",
        "  # Here mapping is country dict we created earlies with all unique country\n",
        "  return emb[torch.from_numpy(indices)], torch.tensor(mapping[country])\n",
        "\n"
      ],
      "metadata": {
        "id": "RV-faje_GHK5"
      },
      "execution_count": 19,
      "outputs": []
    },
    {
      "cell_type": "code",
      "source": [
        "name = \"Cthulhu\"\n",
        "country = \"Pacific\"\n",
        "name_char_list = np.array(list(name))\n",
        "\n",
        "column_array = name_char_list[..., None]\n",
        "row_array = name_char_list[None,...]\n",
        "column_array_reshape = name_char_list.reshape(-1, 1)\n",
        "row_array_reshape = name_char_list.reshape(1, -1)\n",
        "\n",
        "print(column_array)\n",
        "print(row_array)\n",
        "print(column_array_reshape)\n",
        "print(row_array_reshape)\n",
        "\n"
      ],
      "metadata": {
        "id": "F3N4I5dzwRoF",
        "outputId": "59639936-0af5-4bdb-acea-8b45af50c23f",
        "colab": {
          "base_uri": "https://localhost:8080/"
        }
      },
      "execution_count": 18,
      "outputs": [
        {
          "output_type": "stream",
          "name": "stdout",
          "text": [
            "[['C']\n",
            " ['t']\n",
            " ['h']\n",
            " ['u']\n",
            " ['l']\n",
            " ['h']\n",
            " ['u']]\n",
            "[['C' 't' 'h' 'u' 'l' 'h' 'u']]\n",
            "[['C']\n",
            " ['t']\n",
            " ['h']\n",
            " ['u']\n",
            " ['l']\n",
            " ['h']\n",
            " ['u']]\n",
            "[['C' 't' 'h' 'u' 'l' 'h' 'u']]\n"
          ]
        }
      ]
    },
    {
      "cell_type": "code",
      "source": [],
      "metadata": {
        "id": "XTqNo2a2xv9V",
        "outputId": "eaa8807b-cfd5-4e5f-cf1e-09668b7ab286",
        "colab": {
          "base_uri": "https://localhost:8080/"
        }
      },
      "execution_count": 22,
      "outputs": [
        {
          "output_type": "stream",
          "name": "stdout",
          "text": [
            "RNN(57, 114)\n"
          ]
        }
      ]
    },
    {
      "cell_type": "markdown",
      "source": [
        "## Here we will define an RNN "
      ],
      "metadata": {
        "id": "__sVzShcO7Bo"
      }
    },
    {
      "cell_type": "code",
      "source": [
        "class Net(nn.Module):\n",
        "\n",
        "  def __init__(self, n_country, n_letters):\n",
        "    super(Net, self).__init__()\n",
        "    self.rnn = nn.RNN(n_letters, 2 * n_letters)\n",
        "    # This is last layer multiplication for outcome with n_country instead of 1 because of\n",
        "    # multilevel Nural network\n",
        "    #Shape of linear modal\n",
        "    self.fc = nn.Linear(2 * n_letters, n_country)\n",
        "\n",
        "  def forward(self,x):\n",
        "    out, _ = self.rnn(x)\n",
        "    # Now take value from last step of rnn using out[-1,:] and give result to user\n",
        "    out1 = self.fc(out[-1,:])\n",
        "    return out1\n",
        "\n"
      ],
      "metadata": {
        "id": "HNV9f0CqKr1Z"
      },
      "execution_count": 30,
      "outputs": []
    },
    {
      "cell_type": "code",
      "source": [
        "\n",
        "n_countries = len(np.unique(all_country))\n",
        "model = Net(n_country=n_countries, n_letters=n_letters)\n",
        "\n"
      ],
      "metadata": {
        "id": "-PuiEXVjYlsH"
      },
      "execution_count": 31,
      "outputs": []
    },
    {
      "cell_type": "code",
      "source": [
        "print(model)"
      ],
      "metadata": {
        "id": "CUJUoLg-zj48",
        "outputId": "71414901-0591-4101-8853-ca389e148cea",
        "colab": {
          "base_uri": "https://localhost:8080/"
        }
      },
      "execution_count": 32,
      "outputs": [
        {
          "output_type": "stream",
          "name": "stdout",
          "text": [
            "Net(\n",
            "  (rnn): RNN(57, 114)\n",
            "  (fc): Linear(in_features=114, out_features=18, bias=True)\n",
            ")\n"
          ]
        }
      ]
    },
    {
      "cell_type": "code",
      "source": [
        "# Loss function i.e Cross Entropy loss function\n",
        "loss_fn = nn.CrossEntropyLoss()\n",
        "# Gradient Desent\n",
        "#Model.parametrs() give all learnable parameters of an object wwith include weight,baises of \n",
        "# RNN and fully conected layes\n",
        "optimizer = torch.optim.SGD(model.parameters(), lr= 0.005)\n"
      ],
      "metadata": {
        "id": "ZJZ62lpgZMCl"
      },
      "execution_count": 33,
      "outputs": []
    },
    {
      "cell_type": "code",
      "source": [
        "print(loss_fn)\n",
        "print(optimizer)"
      ],
      "metadata": {
        "id": "NXLjQmXfzsn_",
        "outputId": "e39218e7-9a6b-48a1-98eb-b9101b333801",
        "colab": {
          "base_uri": "https://localhost:8080/"
        }
      },
      "execution_count": 34,
      "outputs": [
        {
          "output_type": "stream",
          "name": "stdout",
          "text": [
            "CrossEntropyLoss()\n",
            "SGD (\n",
            "Parameter Group 0\n",
            "    dampening: 0\n",
            "    differentiable: False\n",
            "    foreach: None\n",
            "    lr: 0.005\n",
            "    maximize: False\n",
            "    momentum: 0\n",
            "    nesterov: False\n",
            "    weight_decay: 0\n",
            ")\n"
          ]
        }
      ]
    },
    {
      "cell_type": "code",
      "source": [
        "num_epochs = 30\n",
        "all_losses = []\n",
        "for epoch in range(num_epochs):\n",
        "  arr = np.arange(n_rows) # 0, 1, --- 20074\n",
        "  np.random.shuffle(arr) # shuffle it\n",
        "  epoch_loss = 0\n",
        "  for ind in arr:\n",
        "    data, target = get_data(ind) # data is indices vector in one hot form and target in tensor of country code\n",
        "    output = model(data)\n",
        "    # This will use cross entropy loss function to calculate loss\n",
        "    loss = loss_fn(output, target)\n",
        "    epoch_loss += loss.detach().numpy()\n",
        "    optimizer.zero_grad()\n",
        "    loss.backward()\n",
        "    optimizer.step()\n",
        "  all_losses.append(epoch_loss)\n"
      ],
      "metadata": {
        "id": "w9noJbg1jniQ"
      },
      "execution_count": 35,
      "outputs": []
    },
    {
      "cell_type": "code",
      "source": [
        "import matplotlib.pyplot as plt\n",
        "# We can also live plot the neural network to get its value\n",
        "plt.plot(all_losses)\n",
        "print(all_losses)\n"
      ],
      "metadata": {
        "colab": {
          "base_uri": "https://localhost:8080/",
          "height": 468
        },
        "id": "s_UYjk9gDKFT",
        "outputId": "8bfc44d6-841e-4389-b76c-80c5a20a3f6b"
      },
      "execution_count": 36,
      "outputs": [
        {
          "output_type": "stream",
          "name": "stdout",
          "text": [
            "[26502.498393927963, 20294.360917980084, 18432.45701490254, 17275.903471956743, 16285.467480631414, 15464.807541737475, 14618.547813242263, 13965.637842594699, 13426.210528819125, 12856.046646130804, 12641.418919241942, 12068.77853090975, 11863.02244802778, 11568.70746293061, 11255.918768301517, 11052.544018700792, 10660.4760283457, 10569.827331080734, 10578.588332689624, 10434.624368269211, 10285.67197601474, 10175.56277152752, 9820.974140908522, 9967.157308442593, 9989.343314846574, 10239.171294479238, 9869.255883548338, 9871.427258814641, 9808.602932142812, 9823.905956978535]\n"
          ]
        },
        {
          "output_type": "display_data",
          "data": {
            "text/plain": [
              "<Figure size 640x480 with 1 Axes>"
            ],
            "image/png": "[encoded data removed]"
          },
          "metadata": {}
        }
      ]
    },
    {
      "cell_type": "code",
      "source": [
        "def textToLinear(name):\n",
        "  name_char_lis = np.array(list(name))\n",
        "  indices = np.where(name_char_lis[..., None] == np.array(list(all_letters)))[1]\n",
        "  return emb[torch.from_numpy(indices)]\n"
      ],
      "metadata": {
        "id": "W79LR530FH05"
      },
      "execution_count": 37,
      "outputs": []
    },
    {
      "cell_type": "code",
      "source": [
        "\n",
        "\n",
        "# This uses tensors ans input\n",
        "data, target = get_data(100)\n",
        "# nameTensor = get_data(10)\n",
        "output =  model(data)\n",
        "predicted_labels = output.argmax()\n",
        "correct_predictions = (predicted_labels == target)\n",
        "# print(\"Predicted labels:\", predicted_labels)\n",
        "# print(\"Target labels:\", target)\n",
        "\n",
        "accuracy = torch.mean(correct_predictions.float())\n",
        "\n",
        "print(\"Accuracy:\", accuracy.item())"
      ],
      "metadata": {
        "colab": {
          "base_uri": "https://localhost:8080/"
        },
        "id": "exRa9jKRtb0M",
        "outputId": "a1b3086f-78b0-4f8a-efeb-9ccbc543f57d"
      },
      "execution_count": 40,
      "outputs": [
        {
          "output_type": "stream",
          "name": "stdout",
          "text": [
            "Accuracy: 1.0\n"
          ]
        }
      ]
    },
    {
      "cell_type": "markdown",
      "source": [
        "## Now Ploting Evaluation of results"
      ],
      "metadata": {
        "id": "r5-7h7W0CMpC"
      }
    },
    {
      "cell_type": "code",
      "source": [
        "\n",
        "\n",
        "#Take 10000 values randomize them feed data to model get result \n",
        "# Cheaack how close is the result to data then give value  \n",
        "\n",
        "\n",
        "\n"
      ],
      "metadata": {
        "id": "FqFN7QyGzkyh"
      },
      "execution_count": null,
      "outputs": []
    }
  ]
}