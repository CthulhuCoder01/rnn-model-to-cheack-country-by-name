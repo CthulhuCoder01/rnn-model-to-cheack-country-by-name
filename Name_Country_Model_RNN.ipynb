{
  "nbformat": 4,
  "nbformat_minor": 0,
  "metadata": {
    "colab": {
      "provenance": [],
      "authorship_tag": "ABX9TyOo2jbnJOrtVbGZh6Vf38go",
      "include_colab_link": true
    },
    "kernelspec": {
      "name": "python3",
      "display_name": "Python 3"
    },
    "language_info": {
      "name": "python"
    }
  },
  "cells": [
    {
      "cell_type": "markdown",
      "metadata": {
        "id": "view-in-github",
        "colab_type": "text"
      },
      "source": [
        "<a href=\"https://colab.research.google.com/github/CthulhuCoder01/rnn-model-to-check-country-by-name/blob/main/Name_Country_Model_RNN.ipynb\" target=\"_parent\"><img src=\"https://colab.research.google.com/assets/colab-badge.svg\" alt=\"Open In Colab\"/></a>"
      ]
    },
    {
      "cell_type": "code",
      "execution_count": 1,
      "metadata": {
        "colab": {
          "base_uri": "https://localhost:8080/"
        },
        "id": "BOwcnK2YaLIt",
        "outputId": "c4a1161e-9816-4c0c-de34-7f782e4e93d0"
      },
      "outputs": [
        {
          "output_type": "stream",
          "name": "stdout",
          "text": [
            "--2023-06-02 09:26:36--  https://download.pytorch.org/tutorial/data.zip\n",
            "Resolving download.pytorch.org (download.pytorch.org)... 13.35.166.78, 13.35.166.68, 13.35.166.45, ...\n",
            "Connecting to download.pytorch.org (download.pytorch.org)|13.35.166.78|:443... connected.\n",
            "HTTP request sent, awaiting response... 200 OK\n",
            "Length: 2882130 (2.7M) [application/zip]\n",
            "Saving to: ‘data.zip’\n",
            "\n",
            "data.zip            100%[===================>]   2.75M  2.02MB/s    in 1.4s    \n",
            "\n",
            "2023-06-02 09:26:39 (2.02 MB/s) - ‘data.zip’ saved [2882130/2882130]\n",
            "\n"
          ]
        }
      ],
      "source": [
        "!wget https://download.pytorch.org/tutorial/data.zip"
      ]
    },
    {
      "cell_type": "code",
      "source": [
        "!unzip *.zip"
      ],
      "metadata": {
        "colab": {
          "base_uri": "https://localhost:8080/"
        },
        "id": "0N9uTjhNbd84",
        "outputId": "2ac74ec9-b986-4d86-c956-31193cb9106b"
      },
      "execution_count": 2,
      "outputs": [
        {
          "output_type": "stream",
          "name": "stdout",
          "text": [
            "Archive:  data.zip\n",
            "   creating: data/\n",
            "  inflating: data/eng-fra.txt        \n",
            "   creating: data/names/\n",
            "  inflating: data/names/Arabic.txt   \n",
            "  inflating: data/names/Chinese.txt  \n",
            "  inflating: data/names/Czech.txt    \n",
            "  inflating: data/names/Dutch.txt    \n",
            "  inflating: data/names/English.txt  \n",
            "  inflating: data/names/French.txt   \n",
            "  inflating: data/names/German.txt   \n",
            "  inflating: data/names/Greek.txt    \n",
            "  inflating: data/names/Irish.txt    \n",
            "  inflating: data/names/Italian.txt  \n",
            "  inflating: data/names/Japanese.txt  \n",
            "  inflating: data/names/Korean.txt   \n",
            "  inflating: data/names/Polish.txt   \n",
            "  inflating: data/names/Portuguese.txt  \n",
            "  inflating: data/names/Russian.txt  \n",
            "  inflating: data/names/Scottish.txt  \n",
            "  inflating: data/names/Spanish.txt  \n",
            "  inflating: data/names/Vietnamese.txt  \n"
          ]
        }
      ]
    },
    {
      "cell_type": "code",
      "source": [
        "import os\n",
        "import numpy as np\n",
        "# To process them to simple form\n",
        "import unicodedata\n",
        "# To get Ascii charaters\n",
        "import string\n",
        "\n",
        "\n",
        "import torch\n",
        "import torch.nn as nn\n"
      ],
      "metadata": {
        "id": "mBEiODFPbnBp"
      },
      "execution_count": 3,
      "outputs": []
    },
    {
      "cell_type": "code",
      "source": [
        "\n",
        "all_letters = string.ascii_letters + \" .,;'\"\n",
        "# This is to create dimension of the model\n",
        "n_letters = len(all_letters)\n"
      ],
      "metadata": {
        "id": "5WuwzNkwcLCX"
      },
      "execution_count": 4,
      "outputs": []
    },
    {
      "cell_type": "code",
      "source": [
        "#now we need a function that convert unicode to ascii normalise to nfd\n",
        "\n",
        "def unicodeToAscii(s):\n",
        "  return ''.join(\n",
        "      c for c in unicodedata.normalize(\"NFD\",s) if unicodedata.category(c) != 'Mn' and c in all_letters \n",
        "  )\n"
      ],
      "metadata": {
        "id": "i602GkHxceUP"
      },
      "execution_count": 5,
      "outputs": []
    },
    {
      "cell_type": "code",
      "source": [
        "# we also need dimension of output class as there are multiple category of hense it is an multiclass model\n",
        "# Cross entropy loss function is used for it\n",
        "\n",
        "all_names = []\n",
        "all_category = []\n",
        "all_total_category = []\n",
        "category_lines = {}\n"
      ],
      "metadata": {
        "id": "KfWtgEyZdRIJ"
      },
      "execution_count": 17,
      "outputs": []
    },
    {
      "cell_type": "code",
      "source": [
        "#all Name iterate over file\n",
        "# List dir give file names \n",
        "for f in os.listdir(\"/content/data/names\"):\n",
        "  fl = open(\"/content/data/names/\"+f, \"r\")\n",
        "  lis = fl.readlines()\n",
        "  clean_lis = list(map(unicodeToAscii,lis))\n",
        "  all_names.extend(clean_lis)\n",
        "  category_name = f.split(\".\")[0]\n",
        "  all_category.append(category_name)\n",
        "  category_lines[category_name] = clean_lis\n",
        "  all_total_category.extend([category_name] * len(clean_lis))\n",
        "\n"
      ],
      "metadata": {
        "id": "GyiouxYzd9Z9"
      },
      "execution_count": 18,
      "outputs": []
    },
    {
      "cell_type": "code",
      "source": [
        "n_rows = len(all_names)\n",
        "n_category = len(all_category)\n",
        "print(n_rows,n_category)"
      ],
      "metadata": {
        "colab": {
          "base_uri": "https://localhost:8080/"
        },
        "id": "bv4qvPIrfN-x",
        "outputId": "38392019-1df0-4a4e-bffd-14aadffa572f"
      },
      "execution_count": 16,
      "outputs": [
        {
          "output_type": "stream",
          "name": "stdout",
          "text": [
            "20074 18\n"
          ]
        }
      ]
    },
    {
      "cell_type": "code",
      "source": [
        "test_tensor = torch.zeros(2,2,2,2)\n",
        "print(test_tensor)"
      ],
      "metadata": {
        "colab": {
          "base_uri": "https://localhost:8080/"
        },
        "id": "GM0haF_Uh-Bm",
        "outputId": "e443a369-56b7-4a7a-a0be-94d88c3c8e50"
      },
      "execution_count": 42,
      "outputs": [
        {
          "output_type": "stream",
          "name": "stdout",
          "text": [
            "tensor([[[[0., 0.],\n",
            "          [0., 0.]],\n",
            "\n",
            "         [[0., 0.],\n",
            "          [0., 0.]]],\n",
            "\n",
            "\n",
            "        [[[0., 0.],\n",
            "          [0., 0.]],\n",
            "\n",
            "         [[0., 0.],\n",
            "          [0., 0.]]]])\n"
          ]
        }
      ]
    },
    {
      "cell_type": "markdown",
      "source": [
        "Embeding and changig it to vector\n",
        "# One Hot Encoding"
      ],
      "metadata": {
        "id": "PGYGiScIg_T8"
      }
    },
    {
      "cell_type": "code",
      "source": [
        "\n",
        "def letterToIndex(s):\n",
        "  return all_letters.find(s)\n",
        "\n",
        "# One hot encoding of letters\n",
        "def letterToTensor(s):\n",
        "  # Tensor of shape(1,57)\n",
        "  tensor = torch.zeros(1,n_letters)\n",
        "  tensor[0][letterToIndex(s)] = 1\n",
        "  return tensor\n",
        "\n",
        "\n",
        "def wordsToTensor(s):\n",
        "  #tensor of shape(n, 1, 57) where n is length of letter in word\n",
        "  tensor = torch.zeros(len(s),1,n_letters)\n",
        "  for letter_index, letter in enumerate(s):\n",
        "    tensor[letter_index][0][letterToIndex(letter)] = 1\n",
        "  return tensor\n",
        "\n"
      ],
      "metadata": {
        "id": "KlIaaKIugfxY"
      },
      "execution_count": 48,
      "outputs": []
    },
    {
      "cell_type": "code",
      "source": [
        "# Create tensors\n",
        "x1 = torch.tensor([[1, 2, 3], [4, 5, 6]])\n",
        "x2 = torch.tensor([[7, 8, 9], [10, 11, 12]])\n",
        "x3 = torch.tensor([[13, 14, 15], [16, 17, 18]])\n",
        "\n",
        "# Concatenate tensors along the first dimension\n",
        "result = torch.cat((x1, x2, x3), 1)\n",
        "print(result)"
      ],
      "metadata": {
        "colab": {
          "base_uri": "https://localhost:8080/"
        },
        "id": "MEv__3ByqcoK",
        "outputId": "f7405331-bbb2-4a0d-aa9e-b4a19a3fbff6"
      },
      "execution_count": 55,
      "outputs": [
        {
          "output_type": "stream",
          "name": "stdout",
          "text": [
            "tensor([[ 1,  2,  3,  7,  8,  9, 13, 14, 15],\n",
            "        [ 4,  5,  6, 10, 11, 12, 16, 17, 18]])\n"
          ]
        }
      ]
    },
    {
      "cell_type": "markdown",
      "source": [
        "## Creating Neural Network\n",
        "\n",
        "This RNN module is just 2 linear layers which operate on an input and hidden state, with a LogSoftmax layer after the output."
      ],
      "metadata": {
        "id": "MYhWFOT4mOYx"
      }
    },
    {
      "cell_type": "code",
      "source": [
        "\n",
        "class RNN(nn.Module):\n",
        "  def __init__(self,input_size,hidden_size,output_size):\n",
        "    super(RNN, self).__init__()\n",
        "\n",
        "    self.hidden_size = hidden_size\n",
        "    # Weight input to hidden\n",
        "    self.i2h = nn.Linear(input_size + hidden_size , hidden_size)\n",
        "    # Weight hidden to output\n",
        "    self.h2o = nn.Linear(hidden_size, output_size)\n",
        "    #Now Final will be softmax layer which will give output\n",
        "    self.softmax = nn.LogSoftmax(dim=1)\n",
        "    # So structure is first input comes to rnn then it goes to hidden layer \n",
        "\n",
        "\n",
        "  def forward(self,input, hidden):\n",
        "    combined = torch.cat((input,hidden),1)\n",
        "    hidden = self.i2h(combined)\n",
        "    output = self.h2o(hidden)\n",
        "    output = self.softmax(output)\n",
        "    return output, hidden\n",
        "  #This is to initilize hidden value to feed to model training as initial value  \n",
        "  def initHidden(self):\n",
        "    return torch.zeros(1,self.hidden_size)\n",
        "\n"
      ],
      "metadata": {
        "id": "GuSPbYqQmJd6"
      },
      "execution_count": 58,
      "outputs": []
    },
    {
      "cell_type": "markdown",
      "source": [
        "\n",
        "initialization of model"
      ],
      "metadata": {
        "id": "-BUdc_oyu7EX"
      }
    },
    {
      "cell_type": "code",
      "source": [
        "n_hidden = 128\n",
        "rnn = RNN(n_letters, n_hidden, n_category)"
      ],
      "metadata": {
        "id": "C_i1Vmnnu32H"
      },
      "execution_count": 59,
      "outputs": []
    },
    {
      "cell_type": "code",
      "source": [
        "\n",
        "input = wordsToTensor('Albert')\n",
        "hidden = torch.zeros(1, n_hidden)\n",
        "\n",
        "output, next_hidden = rnn(input[0], hidden)\n",
        "print(output)\n"
      ],
      "metadata": {
        "colab": {
          "base_uri": "https://localhost:8080/"
        },
        "id": "kd2r5gMuvBR_",
        "outputId": "d52123b8-202e-4ced-84ee-2d176f02727b"
      },
      "execution_count": 60,
      "outputs": [
        {
          "output_type": "stream",
          "name": "stdout",
          "text": [
            "tensor([[-2.8732, -2.8674, -2.9244, -2.9741, -2.8381, -2.9928, -2.8791, -2.8629,\n",
            "         -2.9336, -2.7845, -2.8744, -2.8467, -2.9080, -2.9426, -2.8552, -2.8582,\n",
            "         -2.9429, -2.8918]], grad_fn=<LogSoftmaxBackward0>)\n"
          ]
        }
      ]
    },
    {
      "cell_type": "markdown",
      "source": [
        "## Training of Recurrent Neural Network"
      ],
      "metadata": {
        "id": "FwMNyJRnxoyU"
      }
    },
    {
      "cell_type": "markdown",
      "source": [
        "Before Traning we should create interpretor of each output"
      ],
      "metadata": {
        "id": "OfBWazHzyMI_"
      }
    },
    {
      "cell_type": "code",
      "source": [
        "\n",
        "tensor = torch.tensor([5, 1, 8, 3, 2, 7, 6, 4,10])\n",
        "\n",
        "top_values, top_indices = tensor.topk(3)\n",
        "\n",
        "print(\"Top 3 values:\", top_values)    # Output: tensor([8, 7, 6])\n",
        "print(\"Indices of top 3 values:\", top_indices[0].item())   # Output: tensor([2, 5, 6])\n"
      ],
      "metadata": {
        "colab": {
          "base_uri": "https://localhost:8080/"
        },
        "id": "eDrnTw0UzwgE",
        "outputId": "5387f6ad-81ea-48c2-8c43-9fcdf19cd546"
      },
      "execution_count": 68,
      "outputs": [
        {
          "output_type": "stream",
          "name": "stdout",
          "text": [
            "Top 3 values: tensor([10,  8,  7])\n",
            "Indices of top 3 values: 8\n"
          ]
        }
      ]
    },
    {
      "cell_type": "code",
      "source": [
        "# Get top Value and convert it to category value\n",
        "def categoryFromOutput(output):\n",
        "  top_n, top_i = output.topk(1)\n",
        "  # this will return value of the item from tensor to string\n",
        "  category_i = top_i[0].item()\n",
        "  return all_category[category_i], category_i\n",
        "\n"
      ],
      "metadata": {
        "id": "HVOVzMBDvkC_"
      },
      "execution_count": 76,
      "outputs": []
    },
    {
      "cell_type": "code",
      "source": [
        "import random\n",
        "\n",
        "# Get random choice froman example\n",
        "def randomChoice(l):\n",
        "  return l[random.randint(0,len(l) - 1)]\n",
        "\n",
        "def randomTrainingExample():\n",
        "  category = randomChoice(all_category)\n",
        "  line = randomChoice(category_lines[category])\n",
        "  category_tensor = torch.tensor([all_category.index(category)], dtype=torch.long)\n",
        "  line_tensor = wordsToTensor(line)\n",
        "  return category, line, category_tensor, line_tensor\n",
        "\n",
        "\n",
        "for i in range(10):\n",
        "    category, line, category_tensor, line_tensor = randomTrainingExample()\n",
        "    print('category =', category, '/ line =', line)\n",
        "\n",
        "\n",
        "\n"
      ],
      "metadata": {
        "colab": {
          "base_uri": "https://localhost:8080/"
        },
        "id": "US_qwSbHzjor",
        "outputId": "8910474f-6866-4248-d256-37b4eea430a1"
      },
      "execution_count": 70,
      "outputs": [
        {
          "output_type": "stream",
          "name": "stdout",
          "text": [
            "category = French / line = Lyon\n",
            "category = Spanish / line = Rendon\n",
            "category = French / line = Herbert\n",
            "category = Vietnamese / line = Van\n",
            "category = Scottish / line = Mccallum\n",
            "category = Portuguese / line = Costa\n",
            "category = Vietnamese / line = Kieu\n",
            "category = Italian / line = Moschella\n",
            "category = Scottish / line = Reid\n",
            "category = Czech / line = Sedmik\n"
          ]
        }
      ]
    },
    {
      "cell_type": "markdown",
      "source": [
        "Creattion of loss function Here we wil use Negative log likelyhood log function"
      ],
      "metadata": {
        "id": "0lKQlUxp31Li"
      }
    },
    {
      "cell_type": "code",
      "source": [
        "\n",
        "loss_fn = nn.NLLLoss()\n"
      ],
      "metadata": {
        "id": "uYWHQU2p3Ajk"
      },
      "execution_count": 71,
      "outputs": []
    },
    {
      "cell_type": "markdown",
      "source": [
        "## Training of model"
      ],
      "metadata": {
        "id": "BVKucTis4pjo"
      }
    },
    {
      "cell_type": "code",
      "source": [
        "learning_rate = 0.005 # If you set this too high, it might explode. If too low, it might not learn\n",
        "\n",
        "#Now we need three thing on training an ai model\n",
        "# 1. Epoch value\n",
        "# 2. Data , Actual Target wrt data value \n",
        "# 3. Loss function and optimizer\n",
        "\n",
        "def train(category_tensor, line_tensor):\n",
        "  hidden = rnn.initHidden()\n",
        "  # Empty the Model for new value so that gradients are empty based on new value\n",
        "  rnn.zero_grad()\n",
        "  # Iterate over line tesor\n",
        "  for i in range(line_tensor.size()[0]):\n",
        "    output, hidden = rnn(line_tensor[i],hidden)\n",
        "\n",
        "  loss = loss_fn(output, category_tensor)\n",
        "  loss.backward()\n",
        "    \n",
        " # Add parameters' gradients to their values, multiplied by learning rate\n",
        " # Here we will going to define gradient desent in module\n",
        " # And ampoute p.data with p.grad.data which is defined previosly by loss function\n",
        "  for p in rnn.parameters():\n",
        "     p.data.add_(p.grad.data, alpha=-learning_rate)\n",
        "  #here loss function item will be used to present in graph\n",
        "  return output, loss.item()\n",
        "  \n"
      ],
      "metadata": {
        "id": "iBdIRLUR4o2B"
      },
      "execution_count": 73,
      "outputs": []
    },
    {
      "cell_type": "code",
      "source": [
        "import time\n",
        "import math"
      ],
      "metadata": {
        "id": "DsNljQbM_Lqo"
      },
      "execution_count": 74,
      "outputs": []
    },
    {
      "cell_type": "code",
      "source": [
        "\n",
        "n_iters = 100000\n",
        "print_every = 5000\n",
        "plot_every = 1000\n",
        "\n",
        "# Keep track of losses for plotting\n",
        "current_loss = 0\n",
        "all_losses = []\n",
        "\n",
        "# time sinse time since to train model\n",
        "def timeSince(since):\n",
        "    now = time.time()\n",
        "    s = now - since\n",
        "    m = math.floor(s / 60)\n",
        "    s -= m * 60\n",
        "    return '%dm %ds' % (m, s)\n",
        "\n",
        "\n",
        "start = time.time()\n",
        "\n",
        "for iter in range(1, n_iters + 1):\n",
        "  category, line, category_tensor, line_tensor = randomTrainingExample()\n",
        "  output, loss = train(category_tensor, line_tensor)\n",
        "  current_loss += loss\n",
        "\n",
        "  # Now get loss function value to get data and print it\n",
        "  if iter % print_every == 0:\n",
        "        guess, guess_i = categoryFromOutput(output)\n",
        "        correct = '✓' if guess == category else '✗ (%s)' % category\n",
        "\n",
        "        print('%d %d%% (%s) %.4f %s / %s %s' % (iter, iter / n_iters * 100, timeSince(start), loss, line, guess, correct))\n",
        "  # Add current loss avg to list of losses\n",
        "  if iter % plot_every == 0:\n",
        "      all_losses.append(current_loss / plot_every)\n",
        "      current_loss = 0\n",
        "\n"
      ],
      "metadata": {
        "colab": {
          "base_uri": "https://localhost:8080/"
        },
        "id": "EK1bqZLC_mk2",
        "outputId": "756c3ef0-68ca-45be-d3d5-7389ed8141f7"
      },
      "execution_count": 77,
      "outputs": [
        {
          "output_type": "stream",
          "name": "stdout",
          "text": [
            "5000 5% (0m 6s) 2.5675 Mizuno / Spanish ✗ (Japanese)\n",
            "10000 10% (0m 14s) 0.6535 Kreskas / Greek ✓\n",
            "15000 15% (0m 21s) 0.2267 Balabanov / Russian ✓\n",
            "20000 20% (0m 29s) 0.6862 Cathan / Irish ✓\n",
            "25000 25% (0m 36s) 2.7718 O'Rourke / Polish ✗ (Irish)\n",
            "30000 30% (0m 44s) 2.0561 Sokolsky / Russian ✗ (Polish)\n",
            "35000 35% (0m 51s) 1.9742 Rooney / Dutch ✗ (English)\n",
            "40000 40% (0m 58s) 1.0658 Gniewek / Czech ✗ (Polish)\n",
            "45000 45% (1m 6s) 2.6923 Kouba / Japanese ✗ (Czech)\n",
            "50000 50% (1m 12s) 2.9985 Boucher / German ✗ (French)\n",
            "55000 55% (1m 20s) 1.9234 Ma / Korean ✗ (Vietnamese)\n",
            "60000 60% (1m 27s) 0.9521 Minnulin / Russian ✓\n",
            "65000 65% (1m 35s) 1.3672 Crespo / Spanish ✗ (Portuguese)\n",
            "70000 70% (1m 43s) 2.0425 Rumpade / English ✗ (Dutch)\n",
            "75000 75% (1m 50s) 0.5357 Vandroogenbroeck / Dutch ✓\n",
            "80000 80% (1m 57s) 0.0187 Zdunowski / Polish ✓\n",
            "85000 85% (2m 4s) 2.7464 Patrick / Czech ✗ (Irish)\n",
            "90000 90% (2m 12s) 0.7631 Oliver / Spanish ✓\n",
            "95000 95% (2m 19s) 2.5143 Bonner / German ✗ (French)\n",
            "100000 100% (2m 27s) 1.6894 Abadi / Italian ✗ (Arabic)\n"
          ]
        }
      ]
    },
    {
      "cell_type": "code",
      "source": [
        "import matplotlib.pyplot as plt\n",
        "import matplotlib.ticker as ticker"
      ],
      "metadata": {
        "id": "KueylH8UEOXN"
      },
      "execution_count": 78,
      "outputs": []
    },
    {
      "cell_type": "code",
      "source": [
        "plt.figure()\n",
        "plt.plot(all_losses)"
      ],
      "metadata": {
        "colab": {
          "base_uri": "https://localhost:8080/",
          "height": 448
        },
        "id": "44Kk2T8cGmds",
        "outputId": "e5c3b42e-c330-4e09-cccb-7a21046e409d"
      },
      "execution_count": 79,
      "outputs": [
        {
          "output_type": "execute_result",
          "data": {
            "text/plain": [
              "[<matplotlib.lines.Line2D at 0x7f6114cf4550>]"
            ]
          },
          "metadata": {},
          "execution_count": 79
        },
        {
          "output_type": "display_data",
          "data": {
            "text/plain": [
              "<Figure size 640x480 with 1 Axes>"
            ],
            "image/png": "[encoded data removed]"
          },
          "metadata": {}
        }
      ]
    },
    {
      "cell_type": "markdown",
      "source": [
        "## Evaluating the Result"
      ],
      "metadata": {
        "id": "11nVLOtPGqUN"
      }
    },
    {
      "cell_type": "code",
      "source": [
        "# Keep track of correct guesses in a confusion matrix\n",
        "\n",
        "# Keep track of correct guesses in a confusion matrix\n",
        "confusion = torch.zeros(n_category, n_category)\n",
        "n_confusion = 10000\n",
        "\n",
        "\n",
        "\n",
        "# Just return an output given a word\n",
        "\n",
        "def evaluate(line_tensor):\n",
        "\n",
        "  hidden = rnn.initHidden()\n",
        "  for i in range(line_tensor.size()[0]):\n",
        "    output, hidden = rnn(line_tensor[i], hidden)\n",
        "\n",
        "  return output\n",
        "\n",
        "#convert an line into tensor\n",
        "\n",
        "# Go through a bunch of examples and record which are correctly guessed\n",
        "for i in range(n_confusion):\n",
        "  # Get random exmaple\n",
        "  category, line, category_tensor, line_tensor = randomTrainingExample()\n",
        "  output = evaluate(line_tensor)\n",
        "  #get category from output (category, category index)\n",
        "  guess, guess_i = categoryFromOutput(output)\n",
        "  # now get true category index\n",
        "  category_i = all_category.index(category)\n",
        "  confusion[category_i][guess_i] += 1\n",
        "\n",
        "# Normalizing data by dividing every row by its sum\n",
        "for i in range(n_category):\n",
        "  confusion[i] = confusion[i] / confusion[i].sum()\n",
        "\n",
        "# Set up plot\n",
        "fig = plt.figure()\n",
        "ax = fig.add_subplot(111)\n",
        "cax = ax.matshow(confusion.numpy())\n",
        "fig.colorbar(cax)\n",
        "\n",
        "# Set up axes\n",
        "ax.set_xticklabels([''] + all_category, rotation=90)\n",
        "ax.set_yticklabels([''] + all_category)\n",
        "\n",
        "# Force label at every tick\n",
        "ax.xaxis.set_major_locator(ticker.MultipleLocator(1))\n",
        "ax.yaxis.set_major_locator(ticker.MultipleLocator(1))\n",
        "\n",
        "# sphinx_gallery_thumbnail_number = 2\n",
        "plt.show()\n",
        "\n"
      ],
      "metadata": {
        "colab": {
          "base_uri": "https://localhost:8080/",
          "height": 597
        },
        "id": "ZvzeR0xYGnRF",
        "outputId": "f816398f-c7f6-42d9-880d-04ca0d46f4da"
      },
      "execution_count": 80,
      "outputs": [
        {
          "output_type": "stream",
          "name": "stderr",
          "text": [
            "<ipython-input-80-ec211a74df8f>:43: UserWarning: FixedFormatter should only be used together with FixedLocator\n",
            "  ax.set_xticklabels([''] + all_category, rotation=90)\n",
            "<ipython-input-80-ec211a74df8f>:44: UserWarning: FixedFormatter should only be used together with FixedLocator\n",
            "  ax.set_yticklabels([''] + all_category)\n"
          ]
        },
        {
          "output_type": "display_data",
          "data": {
            "text/plain": [
              "<Figure size 640x480 with 2 Axes>"
            ],
            "image/png": "[encoded data removed]"
          },
          "metadata": {}
        }
      ]
    },
    {
      "cell_type": "markdown",
      "source": [
        "## Running User input and predict function"
      ],
      "metadata": {
        "id": "JzpHPhuqJ4VM"
      }
    },
    {
      "cell_type": "code",
      "source": [
        "def predict(input_word, n_predictions=3):\n",
        "  print('\\n> %s' % input_word)\n",
        "  #disabling gradient temporarily\n",
        "  with torch.no_grad():\n",
        "    output = evaluate(wordsToTensor(input_word))\n",
        "    topv, topi = output.topk(n_predictions, 1, True)\n",
        "\n",
        "    predictions = []\n",
        "    for i in range(n_predictions):\n",
        "      value = topv[0][i].item()\n",
        "      category_index = topi[0][i].item()\n",
        "      print('(%.2f) %s' % (value, all_category[category_index]))\n",
        "      predictions.append([value, all_category[category_index]])\n",
        "\n"
      ],
      "metadata": {
        "id": "zED66j4DJw7e"
      },
      "execution_count": 83,
      "outputs": []
    },
    {
      "cell_type": "code",
      "source": [
        "predict('Dovesky')\n",
        "predict('Jackson')\n",
        "predict('Satoshi')"
      ],
      "metadata": {
        "colab": {
          "base_uri": "https://localhost:8080/"
        },
        "id": "xRcRipovLkwO",
        "outputId": "cbbf2d67-fe55-4615-c7af-59ee078f5dc5"
      },
      "execution_count": 84,
      "outputs": [
        {
          "output_type": "stream",
          "name": "stdout",
          "text": [
            "\n",
            "> Dovesky\n",
            "(-0.65) Czech\n",
            "(-1.09) Russian\n",
            "(-2.27) English\n",
            "\n",
            "> Jackson\n",
            "(-0.13) Scottish\n",
            "(-3.01) English\n",
            "(-3.52) Czech\n",
            "\n",
            "> Satoshi\n",
            "(-1.08) Italian\n",
            "(-1.31) Japanese\n",
            "(-1.95) Arabic\n"
          ]
        }
      ]
    },
    {
      "cell_type": "code",
      "source": [],
      "metadata": {
        "id": "avj-MWqyLml8"
      },
      "execution_count": null,
      "outputs": []
    }
  ]
}